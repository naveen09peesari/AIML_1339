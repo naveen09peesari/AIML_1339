{
  "nbformat": 4,
  "nbformat_minor": 0,
  "metadata": {
    "colab": {
      "provenance": [],
      "authorship_tag": "ABX9TyPov8JopC65XANtCvSw/zOH",
      "include_colab_link": true
    },
    "kernelspec": {
      "name": "python3",
      "display_name": "Python 3"
    },
    "language_info": {
      "name": "python"
    }
  },
  "cells": [
    {
      "cell_type": "markdown",
      "metadata": {
        "id": "view-in-github",
        "colab_type": "text"
      },
      "source": [
        "<a href=\"https://colab.research.google.com/github/naveen09peesari/AIML_1339/blob/main/assignment.ipynb\" target=\"_parent\"><img src=\"https://colab.research.google.com/assets/colab-badge.svg\" alt=\"Open In Colab\"/></a>"
      ]
    },
    {
      "cell_type": "code",
      "execution_count": 1,
      "metadata": {
        "colab": {
          "base_uri": "https://localhost:8080/"
        },
        "id": "F5KZi8yWyqbs",
        "outputId": "8a6df874-56dd-485b-cbc2-a30e6d54c030"
      },
      "outputs": [
        {
          "output_type": "stream",
          "name": "stdout",
          "text": [
            "naveen\n"
          ]
        }
      ],
      "source": [
        "print(\"naveen\")"
      ]
    },
    {
      "cell_type": "code",
      "source": [],
      "metadata": {
        "id": "tx3NIKJJ0PXw"
      },
      "execution_count": null,
      "outputs": []
    },
    {
      "cell_type": "code",
      "source": [
        "import numpy as np\n",
        "inputs=np.array([1,2,3,2.5])\n",
        "weights=np.array([\n",
        "    [0.3,0.2,0.1,0.4],\n",
        "        [0.4,0.1,-0.1,0.2],\n",
        "            [0.2,-0.2,-0.1,0.8]\n",
        "\n",
        "            ])\n",
        "biases=np.array([0.5,0.3,0.6])\n",
        "output=np.dot(weights,inputs)+biases\n",
        "print(output)"
      ],
      "metadata": {
        "colab": {
          "base_uri": "https://localhost:8080/"
        },
        "id": "x8GTgClo0PeS",
        "outputId": "c46ab8b6-bb1d-42d1-e965-92b4f12f816c"
      },
      "execution_count": 7,
      "outputs": [
        {
          "output_type": "stream",
          "name": "stdout",
          "text": [
            "[2.5 1.1 2.1]\n"
          ]
        }
      ]
    },
    {
      "cell_type": "code",
      "source": [
        "import numpy as np\n",
        "def relu(x):\n",
        " return np.maximum(0,x)\n",
        "  inputs=np.array([1,2,3,2.5])\n",
        "   weights=np.array([\n",
        "        [0.3,0.2,0.1,0.4],\n",
        "                 [0.4,0.1,-0.1,0.2],\n",
        "                              [0.2,-0.2,-0.1,0.8]\n",
        "\n",
        "                                           ])\n",
        "biases=np.array([0.5,0.3,0.6])\n",
        "\n",
        "output=relu(output)\n",
        "print(output)"
      ],
      "metadata": {
        "colab": {
          "base_uri": "https://localhost:8080/",
          "height": 106
        },
        "id": "21y6TZFO0aR4",
        "outputId": "253d826e-7f77-4cd4-a8ea-e036da711b4e"
      },
      "execution_count": 8,
      "outputs": [
        {
          "output_type": "error",
          "ename": "IndentationError",
          "evalue": "unexpected indent (<ipython-input-8-2bdf20d3da70>, line 4)",
          "traceback": [
            "\u001b[0;36m  File \u001b[0;32m\"<ipython-input-8-2bdf20d3da70>\"\u001b[0;36m, line \u001b[0;32m4\u001b[0m\n\u001b[0;31m    inputs=np.array([1,2,3,2.5])\u001b[0m\n\u001b[0m    ^\u001b[0m\n\u001b[0;31mIndentationError\u001b[0m\u001b[0;31m:\u001b[0m unexpected indent\n"
          ]
        }
      ]
    },
    {
      "cell_type": "code",
      "source": [
        "import numpy as np\n",
        "def sigmoid(x):\n",
        "  return 1 / (1 + np.exp(-x))\n",
        "  def relu(x):\n",
        "    return np.maximum(0, x)\n",
        "    inputs = np.array([1, 2, 3, 2.5])\n",
        "    weights = np.array([0.2, 0.8, -0.5, 1.0])\n",
        "    bias = 2\n",
        "    output = np.dot(inputs, weights) + bias\n",
        "    output1= relu(output)\n",
        "    print(output1)\n",
        "    output2= sigmoid(output)\n",
        "    print(output2)"
      ],
      "metadata": {
        "id": "HdV1o8BD0oqK"
      },
      "execution_count": 9,
      "outputs": []
    },
    {
      "cell_type": "code",
      "source": [],
      "metadata": {
        "id": "RpYQkmQMzh60"
      },
      "execution_count": null,
      "outputs": []
    },
    {
      "cell_type": "code",
      "source": [
        "inputs=[0.4,0.3,1,0.8,]\n",
        "weights1=[0.3,0.2,0.1,0.4]\n",
        "weights2=[0.4,0.1,-0.1,0.2]\n",
        "weights3=[0.2,-0.2,-0.1,0.8]\n",
        "bias1=0.5\n",
        "bias2=0.3\n",
        "bias3=0.6\n",
        "output=[inputs[0]*weights1[0]+inputs[1]*weights1[1]+inputs[2]*weights1[2]+inputs[3]*weights1[3]+bias1,\n",
        "        inputs[0]*weights2[0]+inputs[1]*weights2[1]+inputs[2]*weights2[2]+inputs[3]*weights2[3]+bias2,\n",
        "                inputs[0]*weights3[0]+inputs[1]*weights3[1]+inputs[2]*weights3[2]+inputs[3]*weights3[3]+bias1]\n",
        "print(output)"
      ],
      "metadata": {
        "colab": {
          "base_uri": "https://localhost:8080/"
        },
        "id": "3XX2EUcdziIp",
        "outputId": "fb1ee7a4-1812-4ddb-83cc-268ec9e3f3a4"
      },
      "execution_count": 5,
      "outputs": [
        {
          "output_type": "stream",
          "name": "stdout",
          "text": [
            "[1.1, 0.55, 1.06]\n"
          ]
        }
      ]
    }
  ]
}