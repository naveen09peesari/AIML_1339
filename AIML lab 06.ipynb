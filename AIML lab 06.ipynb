{
  "nbformat": 4,
  "nbformat_minor": 0,
  "metadata": {
    "colab": {
      "provenance": [],
      "authorship_tag": "ABX9TyNlQU//LCQXjRjSa0irPsOS",
      "include_colab_link": true
    },
    "kernelspec": {
      "name": "python3",
      "display_name": "Python 3"
    },
    "language_info": {
      "name": "python"
    }
  },
  "cells": [
    {
      "cell_type": "markdown",
      "metadata": {
        "id": "view-in-github",
        "colab_type": "text"
      },
      "source": [
        "<a href=\"https://colab.research.google.com/github/naveen09peesari/AIML_1339/blob/main/AIML%20lab%2006.ipynb\" target=\"_parent\"><img src=\"https://colab.research.google.com/assets/colab-badge.svg\" alt=\"Open In Colab\"/></a>"
      ]
    },
    {
      "cell_type": "code",
      "execution_count": null,
      "metadata": {
        "id": "Y3TuCHH-aCKt"
      },
      "outputs": [],
      "source": [
        "# Part 1: Import required libraries and load data\n",
        "import pandas as pd\n",
        "import matplotlib.pyplot as plt\n",
        "import seaborn as sns\n",
        "from sklearn.preprocessing import StandardScaler\n",
        "from sklearn.model_selection import train_test_split\n",
        "from sklearn.neighbors import KNeighborsClassifier\n",
        "from sklearn.metrics import confusion_matrix, classification_report\n",
        "\n",
        "# Load the classified dataset\n",
        "df = pd.read_csv(\"path_to_your_dataset.csv\")\n",
        "\n",
        "# Check data types of each feature\n",
        "print(\"Data Types:\\n\", df.dtypes)\n",
        "\n",
        "# Generate summary statistics\n",
        "summary = df.describe(percentiles=[0.25, 0.5, 0.75, 0.9])\n",
        "print(\"\\nSummary Statistics:\\n\", summary)\n",
        "\n",
        "# List the names of columns/features in the dataset\n",
        "print(\"\\nColumn Names:\\n\", df.columns.tolist())\n",
        "\n",
        "# Scale the features using StandardScaler\n",
        "scaler = StandardScaler()\n",
        "scaled_features = scaler.fit_transform(df.iloc[:, :-1])  # assuming last column is the target label\n",
        "df_scaled = pd.DataFrame(scaled_features, columns=df.columns[:-1])\n",
        "df_scaled['target'] = df.iloc[:, -1].values\n",
        "\n",
        "# Part 2: Model training and fitting\n",
        "# Separate features and target\n",
        "X = df_scaled.iloc[:, :-1]\n",
        "y = df_scaled['target']\n",
        "\n",
        "# Split the data into train and test sets\n",
        "X_train, X_test, y_train, y_test = train_test_split(X, y, test_size=0.3, random_state=42)\n",
        "\n",
        "# Initialize and train the KNN classifier\n",
        "knn_classifier = KNeighborsClassifier(n_neighbors=5)  # You may adjust n_neighbors\n",
        "knn_classifier.fit(X_train, y_train)\n",
        "\n",
        "# Part 3: Evaluate the Classification Quality\n",
        "# Predict on the test set\n",
        "y_pred = knn_classifier.predict(X_test)\n",
        "\n",
        "# Generate the confusion matrix\n",
        "conf_matrix = confusion_matrix(y_test, y_pred)\n",
        "print(\"\\nConfusion Matrix:\\n\", conf_matrix)\n",
        "\n",
        "# Generate the classification report\n",
        "class_report = classification_report(y_test, y_pred)\n",
        "print(\"\\nClassification Report:\\n\", class_report)\n",
        "\n",
        "# Visualize the confusion matrix\n",
        "sns.heatmap(conf_matrix, annot=True, fmt=\"d\", cmap=\"Blues\")\n",
        "plt.xlabel(\"Predicted Labels\")\n",
        "plt.ylabel(\"True Labels\")\n",
        "plt.title(\"Confusion Matrix\")\n",
        "plt.show()\n"
      ]
    }
  ]
}